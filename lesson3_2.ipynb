{
 "cells": [
  {
   "cell_type": "code",
   "execution_count": 2,
   "metadata": {},
   "outputs": [
    {
     "data": {
      "text/plain": [
       "25"
      ]
     },
     "execution_count": 2,
     "metadata": {},
     "output_type": "execute_result"
    }
   ],
   "source": [
    "n3=5\n",
    "n3*= 5\n",
    "n3"
   ]
  },
  {
   "cell_type": "code",
   "execution_count": 3,
   "metadata": {},
   "outputs": [
    {
     "data": {
      "text/plain": [
       "5.0"
      ]
     },
     "execution_count": 3,
     "metadata": {},
     "output_type": "execute_result"
    }
   ],
   "source": [
    "n3/=5\n",
    "n3"
   ]
  },
  {
   "cell_type": "code",
   "execution_count": 4,
   "metadata": {},
   "outputs": [
    {
     "name": "stdout",
     "output_type": "stream",
     "text": [
      "hello:\n",
      " Devin\tgood morning\n"
     ]
    }
   ],
   "source": [
    "print(\"hello:\\n Devin\\tgood morning\")"
   ]
  },
  {
   "cell_type": "code",
   "execution_count": 9,
   "metadata": {},
   "outputs": [],
   "source": [
    "poem=\"科技分秒演進，一定要用快又有效的學習方式，掌握最新知識與技術！ \\n巨匠電腦深耕資訊教育30年，是全國最大原廠授權教育中心，引領台灣資訊培訓與時俱進，零時差與國際接軌；\\n繼領先同業推出「虛實整合雙軌培訓」，成為業界標竿，更推出全新「線上真人電腦教學」跨平台使用聯網載具就能上課，\\n與名師面對面即時互動，讓您身歷其境、更有效率！\""
   ]
  },
  {
   "cell_type": "code",
   "execution_count": 10,
   "metadata": {},
   "outputs": [
    {
     "name": "stdout",
     "output_type": "stream",
     "text": [
      "科技分秒演進，一定要用快又有效的學習方式，掌握最新知識與技術！ \n",
      "巨匠電腦深耕資訊教育30年，是全國最大原廠授權教育中心，引領台灣資訊培訓與時俱進，零時差與國際接軌；\n",
      "繼領先同業推出「虛實整合雙軌培訓」，成為業界標竿，更推出全新「線上真人電腦教學」跨平台使用聯網載具就能上課，\n",
      "與名師面對面即時互動，讓您身歷其境、更有效率！\n"
     ]
    }
   ],
   "source": [
    "print(poem)"
   ]
  },
  {
   "cell_type": "code",
   "execution_count": 11,
   "metadata": {},
   "outputs": [],
   "source": [
    "poem1=\"\"\"科技分秒演進，一定要用快又有效的學習方式，掌握最新知識與技術！ \n",
    "巨匠電腦深耕資訊教育30年，是全國最大原廠授權教育中心，引領台灣資訊培訓與時俱進，零時差與國際接軌；\n",
    "繼領先同業推出「虛實整合雙軌培訓」，成為業界標竿，更推出全新「線上真人電腦教學」跨平台使用聯網載具就能上課，\n",
    "與名師面對面即時互動，讓您身歷其境、更有效率！\"\"\""
   ]
  },
  {
   "cell_type": "code",
   "execution_count": 13,
   "metadata": {},
   "outputs": [
    {
     "name": "stdout",
     "output_type": "stream",
     "text": [
      "科技分秒演進，一定要用快又有效的學習方式，掌握最新知識與技術！ \n",
      "巨匠電腦深耕資訊教育30年，是全國最大原廠授權教育中心，引領台灣資訊培訓與時俱進，零時差與國際接軌；\n",
      "繼領先同業推出「虛實整合雙軌培訓」，成為業界標竿，更推出全新「線上真人電腦教學」跨平台使用聯網載具就能上課，\n",
      "與名師面對面即時互動，讓您身歷其境、更有效率！\n"
     ]
    }
   ],
   "source": [
    "print(poem1)"
   ]
  },
  {
   "cell_type": "code",
   "execution_count": 16,
   "metadata": {},
   "outputs": [
    {
     "name": "stdout",
     "output_type": "stream",
     "text": [
      "i'm one\n",
      "i'm not one\n",
      "\n"
     ]
    }
   ],
   "source": [
    "qwe=\"\"\n",
    "qwe=\"i'm one\\n\"\n",
    "qwe += \"i'm not one\\n\"\n",
    "print(qwe)"
   ]
  },
  {
   "cell_type": "code",
   "execution_count": 17,
   "metadata": {},
   "outputs": [
    {
     "data": {
      "text/plain": [
       "True"
      ]
     },
     "metadata": {},
     "output_type": "display_data"
    },
    {
     "data": {
      "text/plain": [
       "bool"
      ]
     },
     "metadata": {},
     "output_type": "display_data"
    },
    {
     "data": {
      "text/plain": [
       "False"
      ]
     },
     "metadata": {},
     "output_type": "display_data"
    }
   ],
   "source": [
    "isMan=True\n",
    "display(isMan)\n",
    "display(type(isMan))\n",
    "isMan=False\n",
    "display(isMan)"
   ]
  }
 ],
 "metadata": {
  "kernelspec": {
   "display_name": "Python 3",
   "language": "python",
   "name": "python3"
  },
  "language_info": {
   "codemirror_mode": {
    "name": "ipython",
    "version": 3
   },
   "file_extension": ".py",
   "mimetype": "text/x-python",
   "name": "python",
   "nbconvert_exporter": "python",
   "pygments_lexer": "ipython3",
   "version": "3.10.12"
  },
  "orig_nbformat": 4
 },
 "nbformat": 4,
 "nbformat_minor": 2
}
