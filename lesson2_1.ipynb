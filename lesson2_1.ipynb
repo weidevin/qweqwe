{
 "cells": [
  {
   "cell_type": "code",
   "execution_count": 1,
   "metadata": {},
   "outputs": [
    {
     "name": "stdout",
     "output_type": "stream",
     "text": [
      "hello world\n"
     ]
    }
   ],
   "source": [
    "print(\"hello world\")"
   ]
  },
  {
   "cell_type": "code",
   "execution_count": 5,
   "metadata": {},
   "outputs": [
    {
     "name": "stdout",
     "output_type": "stream",
     "text": [
      "梯形的面積:上底10,下底50,高5\n",
      "面積:150.0\n"
     ]
    }
   ],
   "source": [
    "top=int(input(\"請輸入上底\"))\n",
    "bottom=int(input(\"請輸入下底\"))\n",
    "height=int(input(\"請輸入高\"))\n",
    "area=(top + bottom) * height / 2\n",
    "\n",
    "print(f\"梯形的面積:上底{top},下底{bottom},高{height}\")\n",
    "print(f\"面積:{area}\")"
   ]
  }
 ],
 "metadata": {
  "kernelspec": {
   "display_name": "Python 3",
   "language": "python",
   "name": "python3"
  },
  "language_info": {
   "codemirror_mode": {
    "name": "ipython",
    "version": 3
   },
   "file_extension": ".py",
   "mimetype": "text/x-python",
   "name": "python",
   "nbconvert_exporter": "python",
   "pygments_lexer": "ipython3",
   "version": "3.10.12"
  },
  "orig_nbformat": 4
 },
 "nbformat": 4,
 "nbformat_minor": 2
}
